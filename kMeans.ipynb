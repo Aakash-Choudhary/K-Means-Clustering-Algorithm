{
 "cells": [
  {
   "cell_type": "code",
   "execution_count": 8,
   "metadata": {},
   "outputs": [],
   "source": [
    "import random as rn\n",
    "import numpy as np\n",
    "import pandas as pd\n",
    "from matplotlib.pyplot import scatter"
   ]
  },
  {
   "cell_type": "code",
   "execution_count": 9,
   "metadata": {},
   "outputs": [],
   "source": [
    "data = []\n",
    "for i in range(200):\n",
    "    x = list(np.random.randint(0,1000,2))\n",
    "    data.append(x)"
   ]
  },
  {
   "cell_type": "code",
   "execution_count": 10,
   "metadata": {},
   "outputs": [],
   "source": [
    "def dist(x,y):\n",
    "    d = 0\n",
    "    for i in range(len(x)):\n",
    "        d += (x[i] - y[i])**2\n",
    "    d = np.sqrt(d)\n",
    "    return d"
   ]
  },
  {
   "cell_type": "code",
   "execution_count": 11,
   "metadata": {},
   "outputs": [],
   "source": [
    "def cal_mean(X,c):\n",
    "    n = len(c)\n",
    "    s = [0]*len(X[0])\n",
    "    for i in range(n):\n",
    "        for j in range(len(X[0])):\n",
    "            s[j]+=X[c[i]][j]\n",
    "    for j in range(len(X[0])):\n",
    "        s[j]/=n\n",
    "    return s"
   ]
  },
  {
   "cell_type": "code",
   "execution_count": 12,
   "metadata": {},
   "outputs": [],
   "source": [
    "def kmeans(X,k,maxiter=100):      \n",
    "    lst = []\n",
    "    for i in range(k):\n",
    "        a = np.random.randint(0,len(X))\n",
    "        lst.append(X[a])\n",
    "    for lp in range(maxiter):\n",
    "        cluster = []  \n",
    "        for i in range(k):\n",
    "            cluster.append([])\n",
    "        for i in range(len(X)):\n",
    "            min_idx = 0\n",
    "            min_dis=999999\n",
    "            for j in range(k):\n",
    "                d = dist(lst[j],X[i])\n",
    "                if d<min_dis:\n",
    "                    min_idx = j\n",
    "                    min_dis = d\n",
    "            cluster[min_idx].append(i)\n",
    "        for i in range(k):\n",
    "            if(len(cluster[i])!=0):\n",
    "                lst[i] = cal_mean(X,cluster[i])\n",
    "    return cluster\n",
    "\n",
    "    "
   ]
  },
  {
   "cell_type": "code",
   "execution_count": 13,
   "metadata": {},
   "outputs": [],
   "source": [
    "res = kmeans(data,7,maxiter=1000)"
   ]
  },
  {
   "cell_type": "code",
   "execution_count": 14,
   "metadata": {
    "scrolled": true
   },
   "outputs": [
    {
     "data": {
      "image/png": "[encoded data removed]",
      "text/plain": [
       "<Figure size 432x288 with 1 Axes>"
      ]
     },
     "metadata": {
      "needs_background": "light"
     },
     "output_type": "display_data"
    }
   ],
   "source": [
    "import matplotlib.pyplot as plt\n",
    "color = ['b','g','r','y','c','k','m']\n",
    "fig = plt.figure()\n",
    "ax  = fig.add_subplot(111)\n",
    "for i in range(len(res)):\n",
    "    lst = []\n",
    "    col = color[i]\n",
    "    for j in range(len(res[i])):\n",
    "        lst.append(data[res[i][j]])\n",
    "    lst = pd.DataFrame(lst)\n",
    "    ax.scatter(lst[0],lst[1],c=col)\n",
    "plt.show()"
   ]
  },
  {
   "cell_type": "code",
   "execution_count": null,
   "metadata": {},
   "outputs": [],
   "source": []
  },
  {
   "cell_type": "code",
   "execution_count": null,
   "metadata": {},
   "outputs": [],
   "source": []
  }
 ],
 "metadata": {
  "kernelspec": {
   "display_name": "Python 3",
   "language": "python",
   "name": "python3"
  },
  "language_info": {
   "codemirror_mode": {
    "name": "ipython",
    "version": 3
   },
   "file_extension": ".py",
   "mimetype": "text/x-python",
   "name": "python",
   "nbconvert_exporter": "python",
   "pygments_lexer": "ipython3",
   "version": "3.7.1"
  }
 },
 "nbformat": 4,
 "nbformat_minor": 2
}
